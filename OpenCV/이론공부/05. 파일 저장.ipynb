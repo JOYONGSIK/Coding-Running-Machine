{
 "cells": [
  {
   "cell_type": "markdown",
   "id": "b540f506",
   "metadata": {},
   "source": [
    "# 파일 저장 "
   ]
  },
  {
   "cell_type": "markdown",
   "id": "24e9e27a",
   "metadata": {},
   "source": [
    "## 이미지 저장 "
   ]
  },
  {
   "cell_type": "code",
   "execution_count": 2,
   "id": "b8749b2c",
   "metadata": {},
   "outputs": [
    {
     "name": "stdout",
     "output_type": "stream",
     "text": [
      "True\n"
     ]
    }
   ],
   "source": [
    "import cv2 \n",
    "img = cv2.imread('img.jpg', cv2.IMREAD_GRAYSCALE)\n",
    "cv2.imshow('img', img)\n",
    "\n",
    "cv2.waitKey(0)\n",
    "cv2.destroyAllWindows()\n",
    "cv2.waitKey(1)\n",
    "\n",
    "result = cv2.imwrite('img_save.jpg', img)\n",
    "print(result)"
   ]
  },
  {
   "cell_type": "markdown",
   "id": "3f5ba2c7",
   "metadata": {},
   "source": [
    "## 다른 확장자"
   ]
  },
  {
   "cell_type": "code",
   "execution_count": 3,
   "id": "dfb52d8b",
   "metadata": {},
   "outputs": [
    {
     "name": "stdout",
     "output_type": "stream",
     "text": [
      "True\n"
     ]
    }
   ],
   "source": [
    "import cv2 \n",
    "img = cv2.imread('img.jpg', cv2.IMREAD_GRAYSCALE)\n",
    "# cv2.imshow('img', img)\n",
    "\n",
    "# cv2.waitKey(0)\n",
    "# cv2.destroyAllWindows()\n",
    "# cv2.waitKey(1)\n",
    "\n",
    "result = cv2.imwrite('img_save.png', img)\n",
    "print(result)"
   ]
  },
  {
   "cell_type": "markdown",
   "id": "2b6eddce",
   "metadata": {},
   "source": [
    "## 동영상 저장 "
   ]
  },
  {
   "cell_type": "code",
   "execution_count": 5,
   "id": "06a9fef5",
   "metadata": {},
   "outputs": [
    {
     "data": {
      "text/plain": [
       "-1"
      ]
     },
     "execution_count": 5,
     "metadata": {},
     "output_type": "execute_result"
    }
   ],
   "source": [
    "import cv2 \n",
    "cap = cv2.VideoCapture('video.mp4')\n",
    "\n",
    "# 코덱 정의\n",
    "fourcc = cv2.VideoWriter_fourcc(*'DIVX')\n",
    "\n",
    "# 프레임 크기, 재생속도 \n",
    "width = round(cap.get(cv2.CAP_PROP_FRAME_WIDTH))\n",
    "height = round(cap.get(cv2.CAP_PROP_FRAME_HEIGHT))\n",
    "fps = cap.get(cv2.CAP_PROP_FPS) #  * 2  재생속도 2배 \n",
    "\n",
    "out = cv2.VideoWriter('output.avi', fourcc, fps, (width, height))\n",
    "# 저장 파일명, 코덱, 재생속도, 크기\n",
    "\n",
    "while cap.isOpened():\n",
    "    ret, frame = cap.read() \n",
    "    if not ret : \n",
    "        break \n",
    "        \n",
    "    cv2.imshow('video', frame)\n",
    "    if cv2.waitKey(1) == ord('q') : \n",
    "        break \n",
    "    \n",
    "out.release()\n",
    "cap.release()\n",
    "cv2.destroyAllWindows() \n",
    "cv2.waitKey(1)"
   ]
  },
  {
   "cell_type": "code",
   "execution_count": null,
   "id": "879c77f1",
   "metadata": {},
   "outputs": [],
   "source": []
  }
 ],
 "metadata": {
  "kernelspec": {
   "display_name": "Python 3 (ipykernel)",
   "language": "python",
   "name": "python3"
  },
  "language_info": {
   "codemirror_mode": {
    "name": "ipython",
    "version": 3
   },
   "file_extension": ".py",
   "mimetype": "text/x-python",
   "name": "python",
   "nbconvert_exporter": "python",
   "pygments_lexer": "ipython3",
   "version": "3.9.7"
  },
  "toc": {
   "base_numbering": 1,
   "nav_menu": {},
   "number_sections": true,
   "sideBar": true,
   "skip_h1_title": false,
   "title_cell": "Table of Contents",
   "title_sidebar": "Contents",
   "toc_cell": false,
   "toc_position": {},
   "toc_section_display": true,
   "toc_window_display": false
  }
 },
 "nbformat": 4,
 "nbformat_minor": 5
}
