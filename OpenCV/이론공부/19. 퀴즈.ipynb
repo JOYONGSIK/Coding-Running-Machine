{
 "cells": [
  {
   "cell_type": "markdown",
   "id": "6a1ce21d",
   "metadata": {},
   "source": [
    "# 퀴즈"
   ]
  },
  {
   "cell_type": "markdown",
   "id": "54e47aa1",
   "metadata": {},
   "source": [
    "## OpenCV 를 이용하여 가로로 촬영된 영상을 세로로 회전하는 프로그램을 작성하시오\n",
    "\n",
    "### 조건 \n",
    "1. 회전 : 시계 반대방향으로 90도 \n",
    "2. 재생속도 (FPS) : 원본 x 4배 \n",
    "3. 출력 파일명 : city_output.avi (코덱 : DIVX)\n",
    "\n",
    "- 원본 파일명 : city.mp4"
   ]
  },
  {
   "cell_type": "code",
   "execution_count": 14,
   "id": "1751cc66",
   "metadata": {},
   "outputs": [
    {
     "name": "stderr",
     "output_type": "stream",
     "text": [
      "OpenCV: FFMPEG: tag 0x58564944/'DIVX' is not supported with codec id 12 and format 'mp4 / MP4 (MPEG-4 Part 14)'\n",
      "OpenCV: FFMPEG: fallback to use tag 0x7634706d/'mp4v'\n"
     ]
    },
    {
     "data": {
      "text/plain": [
       "-1"
      ]
     },
     "execution_count": 14,
     "metadata": {},
     "output_type": "execute_result"
    }
   ],
   "source": [
    "import cv2 \n",
    "\n",
    "cap = cv2.VideoCapture('city.mp4')\n",
    "\n",
    "\n",
    "# 코덱 정의\n",
    "fourcc = cv2.VideoWriter_fourcc(*'DIVX')\n",
    "\n",
    "# 프레임 크기, 재생 속도\n",
    "width = round(cap.get(cv2.CAP_PROP_FRAME_WIDTH))\n",
    "height = round(cap.get(cv2.CAP_PROP_FRAME_HEIGHT))\n",
    "fps = cap.get(cv2.CAP_PROP_FPS) * 4 \n",
    "\n",
    "out = cv2.VideoWriter('city_output.mp4', fourcc, fps, (height, width))\n",
    "\n",
    "while cap.isOpened() : # 동영상 파일이 올바로 열렸는지\n",
    "    ret, frame = cap.read()\n",
    "    if not ret : \n",
    "        break\n",
    "    \n",
    "    rotate_frame = cv2.rotate(frame, cv2.ROTATE_90_CLOCKWISE)\n",
    "    out.write(rotate_frame)\n",
    "    \n",
    "    cv2.imshow('city_output', rotate_frame)\n",
    "    if cv2.waitKey(1) == ord('q') :\n",
    "        break\n",
    "        \n",
    "out.release()\n",
    "cap.release()\n",
    "\n",
    "cv2.destroyAllWindows()\n",
    "cv2.waitKey(1)"
   ]
  },
  {
   "cell_type": "code",
   "execution_count": null,
   "id": "c48df3d7",
   "metadata": {},
   "outputs": [],
   "source": []
  },
  {
   "cell_type": "code",
   "execution_count": null,
   "id": "0c5f3764",
   "metadata": {},
   "outputs": [],
   "source": []
  },
  {
   "cell_type": "code",
   "execution_count": null,
   "id": "6b86ee14",
   "metadata": {},
   "outputs": [],
   "source": []
  }
 ],
 "metadata": {
  "kernelspec": {
   "display_name": "Python 3 (ipykernel)",
   "language": "python",
   "name": "python3"
  },
  "language_info": {
   "codemirror_mode": {
    "name": "ipython",
    "version": 3
   },
   "file_extension": ".py",
   "mimetype": "text/x-python",
   "name": "python",
   "nbconvert_exporter": "python",
   "pygments_lexer": "ipython3",
   "version": "3.9.7"
  },
  "toc": {
   "base_numbering": 1,
   "nav_menu": {},
   "number_sections": true,
   "sideBar": true,
   "skip_h1_title": false,
   "title_cell": "Table of Contents",
   "title_sidebar": "Contents",
   "toc_cell": false,
   "toc_position": {},
   "toc_section_display": true,
   "toc_window_display": false
  }
 },
 "nbformat": 4,
 "nbformat_minor": 5
}
