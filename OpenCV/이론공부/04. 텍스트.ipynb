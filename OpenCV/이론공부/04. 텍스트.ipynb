{
 "cells": [
  {
   "cell_type": "markdown",
   "id": "f4a9a42f",
   "metadata": {},
   "source": [
    "# 텍스트 "
   ]
  },
  {
   "cell_type": "markdown",
   "id": "3feeda6e",
   "metadata": {},
   "source": [
    "## OpenCV에서 사용하는 글꼴 종류 \n",
    "- cv2.FONT_HERSHEY_SIMPLEX : 보통 크기의 산 세리프 글꼴\n",
    "- cv2.FONT_HERSHEY_PLAIN : 작은 크기의 산 세리프 글꼴 \n",
    "- cv2.FONT_HERSHEY_SCRIPT_SIMPLEX : 필기체 스타일 글꼴 \n",
    "- cv2.FONT_HERSHEY_TRIPLEX : 보통 크기의 \n",
    "- cv2.FONT_ITALIC : 기울임 (이텔릭체)"
   ]
  },
  {
   "cell_type": "code",
   "execution_count": 5,
   "id": "82f60f17",
   "metadata": {},
   "outputs": [
    {
     "data": {
      "text/plain": [
       "-1"
      ]
     },
     "execution_count": 5,
     "metadata": {},
     "output_type": "execute_result"
    }
   ],
   "source": [
    "import numpy as np \n",
    "import cv2 \n",
    "\n",
    "img = np.zeros((480, 640, 3), dtype=np.uint8)\n",
    "\n",
    "SCALE = 1 # 크기\n",
    "COLOR = (255, 255, 255)\n",
    "THICKNESS = 1 # 두께\n",
    "\n",
    "cv2.putText(img, \"Nado Simplex\", (20, 25), \n",
    "            cv2.FONT_HERSHEY_SIMPLEX, SCALE, COLOR, THICKNESS)\n",
    "# 그릴 위치, 텍스트 내용, 시작 위치, 폰트 종류, 크기, 색깔, 두께 \n",
    "\n",
    "cv2.putText(img, \"Nado Plain\", (20, 150), \n",
    "            cv2.FONT_HERSHEY_PLAIN, SCALE, COLOR, THICKNESS)\n",
    "\n",
    "cv2.putText(img, \"Nado Script Simplex\", (20, 250), \n",
    "            cv2.FONT_HERSHEY_SCRIPT_SIMPLEX, SCALE, COLOR, THICKNESS)\n",
    "\n",
    "cv2.putText(img, \"Nado Triplex\", (20, 350), \n",
    "            cv2.FONT_HERSHEY_TRIPLEX, SCALE, COLOR, THICKNESS)\n",
    "\n",
    "cv2.putText(img, \"Nado Italic\", (20, 450), \n",
    "            cv2.FONT_HERSHEY_TRIPLEX | cv2.FONT_ITALIC, SCALE, COLOR, THICKNESS)\n",
    "\n",
    "cv2.imshow('img', img)\n",
    "cv2.waitKey(0)\n",
    "cv2.destroyAllWindows()\n",
    "cv2.waitKey(1)"
   ]
  },
  {
   "cell_type": "markdown",
   "id": "882806c4",
   "metadata": {},
   "source": [
    "## 한글 "
   ]
  },
  {
   "cell_type": "code",
   "execution_count": 11,
   "id": "eb2b922c",
   "metadata": {},
   "outputs": [
    {
     "data": {
      "text/plain": [
       "-1"
      ]
     },
     "execution_count": 11,
     "metadata": {},
     "output_type": "execute_result"
    }
   ],
   "source": [
    "import numpy as np \n",
    "import cv2 \n",
    "\n",
    "####### 우회 방법 ######## PIL (Python Image Library)\n",
    "from PIL import ImageFont, ImageDraw, Image\n",
    "\n",
    "def myPutText(src, text, pos, font_size, font_color):\n",
    "    img_pil = Image.fromarray(src)\n",
    "    draw = ImageDraw.Draw(img_pil)\n",
    "    font = ImageFont.truetype('AppleGothic', font_size)\n",
    "    draw.text(pos, text, font=font, fill = font_color)\n",
    "    return np.array(img_pil)\n",
    "\n",
    "img = np.zeros((480, 640, 3), dtype=np.uint8)\n",
    "\n",
    "# SCALE = 1 # 크기\n",
    "# COLOR = (255, 255, 255)\n",
    "# THICKNESS = 1 # 두께\n",
    "\n",
    "# cv2.putText(img, \"용식\", (20, 25), \n",
    "#             cv2.FONT_HERSHEY_SIMPLEX, SCALE, COLOR, THICKNESS)\n",
    "# 그릴 위치, 텍스트 내용, 시작 위치, 폰트 종류, 크기, 색깔, 두께 \n",
    "\n",
    "FONT_SIZE = 30\n",
    "COLOR = (255, 255, 255)\n",
    "img = myPutText(img, \"용식\", (20, 50), FONT_SIZE, COLOR)\n",
    "\n",
    "cv2.imshow('img', img)\n",
    "cv2.waitKey(0)\n",
    "cv2.destroyAllWindows()\n",
    "cv2.waitKey(1)"
   ]
  },
  {
   "cell_type": "code",
   "execution_count": null,
   "id": "8fbe4d0b",
   "metadata": {},
   "outputs": [],
   "source": []
  }
 ],
 "metadata": {
  "kernelspec": {
   "display_name": "Python 3 (ipykernel)",
   "language": "python",
   "name": "python3"
  },
  "language_info": {
   "codemirror_mode": {
    "name": "ipython",
    "version": 3
   },
   "file_extension": ".py",
   "mimetype": "text/x-python",
   "name": "python",
   "nbconvert_exporter": "python",
   "pygments_lexer": "ipython3",
   "version": "3.9.7"
  },
  "toc": {
   "base_numbering": 1,
   "nav_menu": {},
   "number_sections": true,
   "sideBar": true,
   "skip_h1_title": false,
   "title_cell": "Table of Contents",
   "title_sidebar": "Contents",
   "toc_cell": false,
   "toc_position": {},
   "toc_section_display": true,
   "toc_window_display": false
  }
 },
 "nbformat": 4,
 "nbformat_minor": 5
}
