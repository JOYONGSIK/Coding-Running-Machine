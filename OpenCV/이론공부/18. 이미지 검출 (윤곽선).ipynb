{
 "cells": [
  {
   "cell_type": "markdown",
   "id": "a13169e3",
   "metadata": {},
   "source": [
    "# 이미지 검출 (윤곽선)\n",
    "## 윤곽선 (Contour) : 경계선을 연결한 선 "
   ]
  },
  {
   "cell_type": "code",
   "execution_count": 2,
   "id": "fc4f2744",
   "metadata": {},
   "outputs": [
    {
     "data": {
      "text/plain": [
       "-1"
      ]
     },
     "execution_count": 2,
     "metadata": {},
     "output_type": "execute_result"
    }
   ],
   "source": [
    "import cv2\n",
    "\n",
    "img = cv2.imread('card.png')\n",
    "\n",
    "# 원본 이미지 복사 \n",
    "target_img = img.copy()\n",
    "\n",
    "gray = cv2.cvtColor(img, cv2.COLOR_BGR2GRAY)\n",
    "ret, otsu = cv2.threshold(gray, -1, 255, cv2.THRESH_BINARY \n",
    "                          | cv2.THRESH_OTSU)\n",
    "\n",
    "# 윤곽선 검출\n",
    "contours, hierarchy = cv2.findContours(otsu, cv2.RETR_LIST, cv2.CHAIN_APPROX_NONE)\n",
    "# 윤곽선 정보, 구조  = 이미지, 윤곽선 찾는 모드, 윤곽선 찾을 때 사용하는 근사치(method)\n",
    "\n",
    "COLOR = (0, 200, 0) # 녹색\n",
    "cv2.drawContours(target_img, contours, -1, COLOR, 2) # 실제 윤곽선 그리기 \n",
    "# 대상 이미지, 윤곽선 정보, 인덱스(-1:전체 윤곽선), 색깔, 윤곽선 두께\n",
    "\n",
    "\n",
    "cv2.imshow('img', img)\n",
    "cv2.imshow('gray', gray)\n",
    "cv2.imshow('otsu', otsu)\n",
    "cv2.imshow('contour', target_img)\n",
    "\n",
    "cv2.waitKey(0)\n",
    "cv2.destroyAllWindows()\n",
    "cv2.waitKey(1)"
   ]
  },
  {
   "cell_type": "markdown",
   "id": "f965e217",
   "metadata": {},
   "source": [
    "### 윤곽선 찾기 모드 \n",
    "- cv2.RETR_EXTERNAL : 가장 외곽의 윤곽선만 찾음\n",
    "- cv2.RETR_LIST : 모든 윤곽선 찾음 (계층 정보 없음)\n",
    "- cv2.RETR_TREE : 모든 윤곽선을 찾음 (계층 정보를 트리 구조로 생성)"
   ]
  },
  {
   "cell_type": "code",
   "execution_count": 9,
   "id": "f82dcaf2",
   "metadata": {},
   "outputs": [
    {
     "data": {
      "text/plain": [
       "-1"
      ]
     },
     "execution_count": 9,
     "metadata": {},
     "output_type": "execute_result"
    }
   ],
   "source": [
    "import cv2\n",
    "\n",
    "img = cv2.imread('card.png')\n",
    "\n",
    "# 원본 이미지 복사 \n",
    "target_img = img.copy()\n",
    "\n",
    "gray = cv2.cvtColor(img, cv2.COLOR_BGR2GRAY)\n",
    "ret, otsu = cv2.threshold(gray, -1, 255, cv2.THRESH_BINARY \n",
    "                          | cv2.THRESH_OTSU)\n",
    "\n",
    "# 윤곽선 검출\n",
    "contours, hierarchy = cv2.findContours(otsu, cv2.RETR_EXTERNAL, cv2.CHAIN_APPROX_NONE)\n",
    "# contours, hierarchy = cv2.findContours(otsu, cv2.RETR_TREE, cv2.CHAIN_APPROX_NONE)\n",
    "# print(hierarchy)\n",
    "# print(f'총 발견 갯수 : {len(contours)}')\n",
    "\n",
    "# 윤곽선 정보, 구조  = 이미지, 윤곽선 찾는 모드, 윤곽선 찾을 때 사용하는 근사치(method)\n",
    "\n",
    "COLOR = (0, 200, 0) # 녹색\n",
    "cv2.drawContours(target_img, contours, -1, COLOR, 2) # 실제 윤곽선 그리기 \n",
    "# 대상 이미지, 윤곽선 정보, 인덱스(-1:전체 윤곽선), 색깔, 윤곽선 두께\n",
    "\n",
    "\n",
    "cv2.imshow('img', img)\n",
    "cv2.imshow('gray', gray)\n",
    "cv2.imshow('otsu', otsu)\n",
    "cv2.imshow('contour', target_img)\n",
    "\n",
    "cv2.waitKey(0)\n",
    "cv2.destroyAllWindows()\n",
    "cv2.waitKey(1)"
   ]
  },
  {
   "cell_type": "markdown",
   "id": "e12846e8",
   "metadata": {},
   "source": [
    "## 경계 사각형\n",
    "- 윤곽선의 경계면을 둘러싸는 사각형 \n",
    "> boundingRect()"
   ]
  },
  {
   "cell_type": "code",
   "execution_count": 11,
   "id": "8af41799",
   "metadata": {},
   "outputs": [
    {
     "data": {
      "text/plain": [
       "-1"
      ]
     },
     "execution_count": 11,
     "metadata": {},
     "output_type": "execute_result"
    }
   ],
   "source": [
    "import cv2\n",
    "\n",
    "img = cv2.imread('card.png')\n",
    "\n",
    "# 원본 이미지 복사 \n",
    "target_img = img.copy()\n",
    "\n",
    "gray = cv2.cvtColor(img, cv2.COLOR_BGR2GRAY)\n",
    "ret, otsu = cv2.threshold(gray, -1, 255, cv2.THRESH_BINARY \n",
    "                          | cv2.THRESH_OTSU)\n",
    "\n",
    "# 윤곽선 검출\n",
    "contours, hierarchy = cv2.findContours(otsu, cv2.RETR_LIST, cv2.CHAIN_APPROX_NONE)\n",
    "\n",
    "COLOR = (0, 200, 0) # 녹색\n",
    "\n",
    "for cnt in contours : \n",
    "    x, y, width, height = cv2.boundingRect(cnt)\n",
    "    cv2.rectangle(target_img, (x, y), (x + width, y + height), COLOR, 2)\n",
    "    # 사각형 그림 \n",
    "    \n",
    "cv2.imshow('img', img)\n",
    "cv2.imshow('gray', gray)\n",
    "cv2.imshow('otsu', otsu)\n",
    "cv2.imshow('contour', target_img)\n",
    "\n",
    "cv2.waitKey(0)\n",
    "cv2.destroyAllWindows()\n",
    "cv2.waitKey(1)"
   ]
  },
  {
   "cell_type": "markdown",
   "id": "6a91783c",
   "metadata": {},
   "source": [
    "## 면적 \n",
    "> contourArea()"
   ]
  },
  {
   "cell_type": "code",
   "execution_count": 17,
   "id": "56c03052",
   "metadata": {},
   "outputs": [
    {
     "data": {
      "text/plain": [
       "-1"
      ]
     },
     "execution_count": 17,
     "metadata": {},
     "output_type": "execute_result"
    }
   ],
   "source": [
    "import cv2\n",
    "\n",
    "img = cv2.imread('card.png')\n",
    "\n",
    "# 원본 이미지 복사 \n",
    "target_img = img.copy()\n",
    "\n",
    "gray = cv2.cvtColor(img, cv2.COLOR_BGR2GRAY)\n",
    "ret, otsu = cv2.threshold(gray, -1, 255, cv2.THRESH_BINARY \n",
    "                          | cv2.THRESH_OTSU)\n",
    "\n",
    "# 윤곽선 검출\n",
    "contours, hierarchy = cv2.findContours(otsu, cv2.RETR_LIST, cv2.CHAIN_APPROX_NONE)\n",
    "\n",
    "COLOR = (0, 200, 0) # 녹색\n",
    "\n",
    "for cnt in contours : \n",
    "    if cv2.contourArea(cnt) > 25000 : \n",
    "        x, y, width, height = cv2.boundingRect(cnt)\n",
    "        cv2.rectangle(target_img, (x, y), (x + width, y + height), COLOR, 2)\n",
    "        \n",
    "    \n",
    "cv2.imshow('img', img)\n",
    "cv2.imshow('contour', target_img)\n",
    "\n",
    "cv2.waitKey(0)\n",
    "cv2.destroyAllWindows()\n",
    "cv2.waitKey(1)"
   ]
  },
  {
   "cell_type": "markdown",
   "id": "00e8eaaa",
   "metadata": {},
   "source": [
    "## 미니 프로젝트 : 개별 카드 추출해서 파일 저장 "
   ]
  },
  {
   "cell_type": "code",
   "execution_count": 18,
   "id": "a5e16336",
   "metadata": {},
   "outputs": [
    {
     "data": {
      "text/plain": [
       "-1"
      ]
     },
     "execution_count": 18,
     "metadata": {},
     "output_type": "execute_result"
    }
   ],
   "source": [
    "import cv2\n",
    "\n",
    "img = cv2.imread('card.png')\n",
    "\n",
    "# 원본 이미지 복사 \n",
    "target_img = img.copy()\n",
    "\n",
    "gray = cv2.cvtColor(img, cv2.COLOR_BGR2GRAY)\n",
    "ret, otsu = cv2.threshold(gray, -1, 255, cv2.THRESH_BINARY \n",
    "                          | cv2.THRESH_OTSU)\n",
    "\n",
    "# 윤곽선 검출\n",
    "contours, hierarchy = cv2.findContours(otsu, cv2.RETR_LIST, cv2.CHAIN_APPROX_NONE)\n",
    "\n",
    "COLOR = (0, 200, 0) # 녹색\n",
    "\n",
    "idx = 1 \n",
    "for cnt in contours : \n",
    "    if cv2.contourArea(cnt) > 25000 : \n",
    "        x, y, width, height = cv2.boundingRect(cnt)\n",
    "        cv2.rectangle(target_img, (x, y), (x + width, y + height), COLOR, 2)\n",
    "        \n",
    "        crop = img[y:y+height, x:x+width]\n",
    "        cv2.imshow(f'card_crop_{idx}', crop)\n",
    "        cv2.imwrite(f'card_crop_{idx}.png', crop) # 파일 저장 \n",
    "        \n",
    "        idx += 1 \n",
    "        \n",
    "    \n",
    "cv2.imshow('img', img)\n",
    "cv2.imshow('contour', target_img)\n",
    "\n",
    "cv2.waitKey(0)\n",
    "cv2.destroyAllWindows()\n",
    "cv2.waitKey(1)"
   ]
  },
  {
   "cell_type": "code",
   "execution_count": null,
   "id": "aba39a07",
   "metadata": {},
   "outputs": [],
   "source": []
  }
 ],
 "metadata": {
  "kernelspec": {
   "display_name": "Python 3 (ipykernel)",
   "language": "python",
   "name": "python3"
  },
  "language_info": {
   "codemirror_mode": {
    "name": "ipython",
    "version": 3
   },
   "file_extension": ".py",
   "mimetype": "text/x-python",
   "name": "python",
   "nbconvert_exporter": "python",
   "pygments_lexer": "ipython3",
   "version": "3.9.7"
  },
  "toc": {
   "base_numbering": 1,
   "nav_menu": {},
   "number_sections": true,
   "sideBar": true,
   "skip_h1_title": false,
   "title_cell": "Table of Contents",
   "title_sidebar": "Contents",
   "toc_cell": false,
   "toc_position": {},
   "toc_section_display": true,
   "toc_window_display": false
  }
 },
 "nbformat": 4,
 "nbformat_minor": 5
}
