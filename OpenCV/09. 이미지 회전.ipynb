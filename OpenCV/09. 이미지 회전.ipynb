{
 "cells": [
  {
   "cell_type": "markdown",
   "id": "397cb520",
   "metadata": {},
   "source": [
    "# 이미지 회전"
   ]
  },
  {
   "cell_type": "markdown",
   "id": "e2ef39a7",
   "metadata": {},
   "source": [
    "## 시계 방향 90도 회전"
   ]
  },
  {
   "cell_type": "code",
   "execution_count": 2,
   "id": "10d71a8c",
   "metadata": {},
   "outputs": [
    {
     "data": {
      "text/plain": [
       "-1"
      ]
     },
     "execution_count": 2,
     "metadata": {},
     "output_type": "execute_result"
    }
   ],
   "source": [
    "import cv2\n",
    "img = cv2.imread('img.jpg')\n",
    "\n",
    "rotate_90 = cv2.rotate(img, cv2.ROTATE_90_CLOCKWISE)\n",
    "\n",
    "cv2.imshow('img', img)\n",
    "cv2.imshow('rotate_90', rotate_90)\n",
    "\n",
    "cv2.waitKey(0)\n",
    "cv2.destroyAllWindows()\n",
    "cv2.waitKey(1)"
   ]
  },
  {
   "cell_type": "markdown",
   "id": "6db32f40",
   "metadata": {},
   "source": [
    "## 180도 회전"
   ]
  },
  {
   "cell_type": "code",
   "execution_count": 4,
   "id": "60cbdd17",
   "metadata": {},
   "outputs": [
    {
     "data": {
      "text/plain": [
       "-1"
      ]
     },
     "execution_count": 4,
     "metadata": {},
     "output_type": "execute_result"
    }
   ],
   "source": [
    "import cv2\n",
    "img = cv2.imread('img.jpg')\n",
    "\n",
    "rotate_180 = cv2.rotate(img, cv2.ROTATE_180)\n",
    "\n",
    "cv2.imshow('img', img)\n",
    "cv2.imshow('rotate_180', rotate_180)\n",
    "\n",
    "cv2.waitKey(0)\n",
    "cv2.destroyAllWindows()\n",
    "cv2.waitKey(1)"
   ]
  },
  {
   "cell_type": "markdown",
   "id": "1b3c7903",
   "metadata": {},
   "source": [
    "## 시계 반대 방향 90도 회전"
   ]
  },
  {
   "cell_type": "code",
   "execution_count": 6,
   "id": "23238d01",
   "metadata": {},
   "outputs": [
    {
     "data": {
      "text/plain": [
       "-1"
      ]
     },
     "execution_count": 6,
     "metadata": {},
     "output_type": "execute_result"
    }
   ],
   "source": [
    "import cv2\n",
    "img = cv2.imread('img.jpg')\n",
    "\n",
    "rotate_270 = cv2.rotate(img, cv2.ROTATE_90_COUNTERCLOCKWISE)\n",
    "\n",
    "cv2.imshow('img', img)\n",
    "cv2.imshow('rotate_270', rotate_270)\n",
    "\n",
    "cv2.waitKey(0)\n",
    "cv2.destroyAllWindows()\n",
    "cv2.waitKey(1)"
   ]
  },
  {
   "cell_type": "code",
   "execution_count": null,
   "id": "39ad20ba",
   "metadata": {},
   "outputs": [],
   "source": []
  }
 ],
 "metadata": {
  "kernelspec": {
   "display_name": "Python 3 (ipykernel)",
   "language": "python",
   "name": "python3"
  },
  "language_info": {
   "codemirror_mode": {
    "name": "ipython",
    "version": 3
   },
   "file_extension": ".py",
   "mimetype": "text/x-python",
   "name": "python",
   "nbconvert_exporter": "python",
   "pygments_lexer": "ipython3",
   "version": "3.9.7"
  },
  "toc": {
   "base_numbering": 1,
   "nav_menu": {},
   "number_sections": true,
   "sideBar": true,
   "skip_h1_title": false,
   "title_cell": "Table of Contents",
   "title_sidebar": "Contents",
   "toc_cell": false,
   "toc_position": {},
   "toc_section_display": true,
   "toc_window_display": false
  }
 },
 "nbformat": 4,
 "nbformat_minor": 5
}
