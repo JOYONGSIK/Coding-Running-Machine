{
 "cells": [
  {
   "cell_type": "markdown",
   "id": "de603c4e",
   "metadata": {},
   "source": [
    "# 크기 조정"
   ]
  },
  {
   "cell_type": "markdown",
   "id": "b112d4cc",
   "metadata": {},
   "source": [
    "## 고정 크기로 설정\n"
   ]
  },
  {
   "cell_type": "code",
   "execution_count": 1,
   "id": "7efcdb75",
   "metadata": {},
   "outputs": [
    {
     "data": {
      "text/plain": [
       "-1"
      ]
     },
     "execution_count": 1,
     "metadata": {},
     "output_type": "execute_result"
    }
   ],
   "source": [
    "import cv2 \n",
    "img = cv2.imread('img.jpg')\n",
    "dst = cv2.resize(img, (400, 500)) # W, H 고정 크기\n",
    "\n",
    "cv2.imshow('img', img)\n",
    "cv2.imshow('resize', dst) \n",
    "\n",
    "cv2.waitKey(0)\n",
    "cv2.destroyAllWindows()\n",
    "cv2.waitKey(1)"
   ]
  },
  {
   "cell_type": "markdown",
   "id": "fcda9ac0",
   "metadata": {},
   "source": [
    "## 비율로 설정 "
   ]
  },
  {
   "cell_type": "code",
   "execution_count": 2,
   "id": "54b877f0",
   "metadata": {},
   "outputs": [
    {
     "data": {
      "text/plain": [
       "-1"
      ]
     },
     "execution_count": 2,
     "metadata": {},
     "output_type": "execute_result"
    }
   ],
   "source": [
    "import cv2 \n",
    "img = cv2.imread('img.jpg')\n",
    "dst = cv2.resize(img, None, fx=0.5, fy=0.5) # W, H 비율로 설정\n",
    "\n",
    "cv2.imshow('img', img)\n",
    "cv2.imshow('resize', dst) \n",
    "\n",
    "cv2.waitKey(0)\n",
    "cv2.destroyAllWindows()\n",
    "cv2.waitKey(1)"
   ]
  },
  {
   "cell_type": "markdown",
   "id": "d5d7420a",
   "metadata": {},
   "source": [
    "## 보간법\n",
    "- cv2.INTER_AREA : 크기 줄일 때 사용\n",
    "- cv2.INTER_CUBIC : 크기 늘릴 때 사용(속도 느림, 퀄리티 좋음)\n",
    "- cv2.INTER_LINEAR : 크기 늘릴 떄 사용(기본값)"
   ]
  },
  {
   "cell_type": "code",
   "execution_count": 3,
   "id": "ff47d1c4",
   "metadata": {},
   "outputs": [
    {
     "data": {
      "text/plain": [
       "-1"
      ]
     },
     "execution_count": 3,
     "metadata": {},
     "output_type": "execute_result"
    }
   ],
   "source": [
    "import cv2 \n",
    "img = cv2.imread('img.jpg')\n",
    "dst = cv2.resize(img, None, fx=0.5, fy=0.5, interpolation=cv2.INTER_AREA) # W, H 비율로 설정\n",
    "\n",
    "cv2.imshow('img', img)\n",
    "cv2.imshow('resize', dst) \n",
    "\n",
    "cv2.waitKey(0)\n",
    "cv2.destroyAllWindows()\n",
    "cv2.waitKey(1)"
   ]
  },
  {
   "cell_type": "code",
   "execution_count": 4,
   "id": "1551456e",
   "metadata": {
    "scrolled": true
   },
   "outputs": [
    {
     "data": {
      "text/plain": [
       "-1"
      ]
     },
     "execution_count": 4,
     "metadata": {},
     "output_type": "execute_result"
    }
   ],
   "source": [
    "import cv2 \n",
    "img = cv2.imread('img.jpg')\n",
    "dst = cv2.resize(img, None, fx=1.5, fy=1.5, interpolation=cv2.INTER_CUBIC) # W, H 비율로 설정\n",
    "\n",
    "cv2.imshow('img', img)\n",
    "cv2.imshow('resize', dst) \n",
    "\n",
    "cv2.waitKey(0)\n",
    "cv2.destroyAllWindows()\n",
    "cv2.waitKey(1)"
   ]
  },
  {
   "cell_type": "markdown",
   "id": "146ee523",
   "metadata": {},
   "source": [
    "# 동영상 크기 "
   ]
  },
  {
   "cell_type": "markdown",
   "id": "d7035e6d",
   "metadata": {},
   "source": [
    "## 고정 크기로 설정 "
   ]
  },
  {
   "cell_type": "code",
   "execution_count": 7,
   "id": "07bd2244",
   "metadata": {},
   "outputs": [
    {
     "data": {
      "text/plain": [
       "-1"
      ]
     },
     "execution_count": 7,
     "metadata": {},
     "output_type": "execute_result"
    }
   ],
   "source": [
    "import cv2\n",
    "cap = cv2.VideoCapture('video.mp4')\n",
    "\n",
    "while cap.isOpened():\n",
    "    ret, frame = cap.read()\n",
    "    if not ret : \n",
    "        break \n",
    "    \n",
    "    frame_resized = cv2.resize(frame, (400, 500))\n",
    "    \n",
    "    cv2.imshow('video', frame_resized)\n",
    "    if cv2.waitKey(1) == ord('q'): \n",
    "        break \n",
    "        \n",
    "cap.release()\n",
    "cv2.destroyAllWindows()\n",
    "cv2.waitKey(1)"
   ]
  },
  {
   "cell_type": "markdown",
   "id": "d8fc4f04",
   "metadata": {},
   "source": [
    "## 비율로 설정 "
   ]
  },
  {
   "cell_type": "code",
   "execution_count": 10,
   "id": "defaa0f2",
   "metadata": {},
   "outputs": [
    {
     "data": {
      "text/plain": [
       "-1"
      ]
     },
     "execution_count": 10,
     "metadata": {},
     "output_type": "execute_result"
    }
   ],
   "source": [
    "import cv2\n",
    "cap = cv2.VideoCapture('video.mp4')\n",
    "\n",
    "while cap.isOpened():\n",
    "    ret, frame = cap.read()\n",
    "    if not ret : \n",
    "        break \n",
    "    \n",
    "    frame_resized = cv2.resize(frame, None, fx=1.5, fy=1.5, \n",
    "                               interpolation = cv2.INTER_CUBIC)\n",
    "    \n",
    "    cv2.imshow('video', frame_resized)\n",
    "    if cv2.waitKey(1) == ord('q'): \n",
    "        break \n",
    "        \n",
    "cap.release()\n",
    "cv2.destroyAllWindows()\n",
    "cv2.waitKey(1)"
   ]
  },
  {
   "cell_type": "code",
   "execution_count": null,
   "id": "26281cd0",
   "metadata": {},
   "outputs": [],
   "source": []
  }
 ],
 "metadata": {
  "kernelspec": {
   "display_name": "Python 3 (ipykernel)",
   "language": "python",
   "name": "python3"
  },
  "language_info": {
   "codemirror_mode": {
    "name": "ipython",
    "version": 3
   },
   "file_extension": ".py",
   "mimetype": "text/x-python",
   "name": "python",
   "nbconvert_exporter": "python",
   "pygments_lexer": "ipython3",
   "version": "3.9.7"
  },
  "toc": {
   "base_numbering": 1,
   "nav_menu": {},
   "number_sections": true,
   "sideBar": true,
   "skip_h1_title": false,
   "title_cell": "Table of Contents",
   "title_sidebar": "Contents",
   "toc_cell": false,
   "toc_position": {},
   "toc_section_display": true,
   "toc_window_display": false
  }
 },
 "nbformat": 4,
 "nbformat_minor": 5
}
