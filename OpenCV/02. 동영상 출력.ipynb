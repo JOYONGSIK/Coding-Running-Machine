{
 "cells": [
  {
   "cell_type": "markdown",
   "id": "4863b785",
   "metadata": {},
   "source": [
    "# 동영상 출력"
   ]
  },
  {
   "cell_type": "markdown",
   "id": "b9942e06",
   "metadata": {},
   "source": [
    "## 동영상 파일 출력"
   ]
  },
  {
   "cell_type": "code",
   "execution_count": 3,
   "id": "f4da216d",
   "metadata": {},
   "outputs": [
    {
     "name": "stdout",
     "output_type": "stream",
     "text": [
      "사용자 입력에 의해 종료합니다.\n"
     ]
    },
    {
     "data": {
      "text/plain": [
       "-1"
      ]
     },
     "execution_count": 3,
     "metadata": {},
     "output_type": "execute_result"
    }
   ],
   "source": [
    "import cv2\n",
    "cap = cv2.VideoCapture('video.mp4')\n",
    "\n",
    "while cap.isOpened(): # 동영상 파일이 올바로 열렸는지 ? \n",
    "    ret, frame = cap.read() # ret : 성공 여부, freme : 받아온 이미지 (프레임)\n",
    "    if not ret : \n",
    "        print('더 이상 가져올 프레임이 없습니다.')\n",
    "        break \n",
    "        \n",
    "    cv2.imshow('video', frame)\n",
    "    \n",
    "    if cv2.waitKey(1) == ord('q') : \n",
    "        print('사용자 입력에 의해 종료합니다.')\n",
    "        break \n",
    "        \n",
    "cap.release() # 자원 해제 \n",
    "cv2.destroyAllWindows() # 창 닫기 \n",
    "cv2.waitKey(1)"
   ]
  },
  {
   "cell_type": "markdown",
   "id": "095814b3",
   "metadata": {},
   "source": [
    "# 카메라 출력 "
   ]
  },
  {
   "cell_type": "code",
   "execution_count": 1,
   "id": "31214184",
   "metadata": {},
   "outputs": [
    {
     "name": "stdout",
     "output_type": "stream",
     "text": [
      "사용자 입력에 의해 종료합니다.\n"
     ]
    },
    {
     "data": {
      "text/plain": [
       "-1"
      ]
     },
     "execution_count": 1,
     "metadata": {},
     "output_type": "execute_result"
    }
   ],
   "source": [
    "import cv2 \n",
    "cap = cv2.VideoCapture(0) # 0번째 카메라 장치 \n",
    "\n",
    "if not cap.isOpened(): # 잘 열리지 않은 경우 \n",
    "    exit() \n",
    "    \n",
    "while True : \n",
    "    ret, frame = cap.read() \n",
    "    if not ret : \n",
    "        print('더 이상 가져올 프레임이 없습니다.')\n",
    "        break \n",
    "        \n",
    "    cv2.imshow('camera', frame)\n",
    "    \n",
    "    if cv2.waitKey(1) == ord('q') : \n",
    "        print('사용자 입력에 의해 종료합니다.')\n",
    "        break \n",
    "\n",
    "cap.release()\n",
    "cv2.destroyAllWindows() # 창 닫기 \n",
    "cv2.waitKey(1)"
   ]
  },
  {
   "cell_type": "code",
   "execution_count": null,
   "id": "1afde40e",
   "metadata": {},
   "outputs": [],
   "source": []
  },
  {
   "cell_type": "code",
   "execution_count": null,
   "id": "a22e0d7b",
   "metadata": {},
   "outputs": [],
   "source": []
  }
 ],
 "metadata": {
  "kernelspec": {
   "display_name": "Python 3 (ipykernel)",
   "language": "python",
   "name": "python3"
  },
  "language_info": {
   "codemirror_mode": {
    "name": "ipython",
    "version": 3
   },
   "file_extension": ".py",
   "mimetype": "text/x-python",
   "name": "python",
   "nbconvert_exporter": "python",
   "pygments_lexer": "ipython3",
   "version": "3.9.7"
  },
  "toc": {
   "base_numbering": 1,
   "nav_menu": {},
   "number_sections": true,
   "sideBar": true,
   "skip_h1_title": false,
   "title_cell": "Table of Contents",
   "title_sidebar": "Contents",
   "toc_cell": false,
   "toc_position": {},
   "toc_section_display": true,
   "toc_window_display": false
  }
 },
 "nbformat": 4,
 "nbformat_minor": 5
}
